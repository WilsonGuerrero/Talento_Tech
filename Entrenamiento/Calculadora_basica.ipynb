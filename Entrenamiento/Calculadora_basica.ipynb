{
  "nbformat": 4,
  "nbformat_minor": 0,
  "metadata": {
    "colab": {
      "provenance": []
    },
    "kernelspec": {
      "name": "python3",
      "display_name": "Python 3"
    },
    "language_info": {
      "name": "python"
    }
  },
  "cells": [
    {
      "cell_type": "code",
      "execution_count": 5,
      "metadata": {
        "colab": {
          "base_uri": "https://localhost:8080/"
        },
        "id": "iKVK7yd3z_rK",
        "outputId": "0491c044-f9b7-4106-abc3-2b871f23f11b"
      },
      "outputs": [
        {
          "output_type": "stream",
          "name": "stdout",
          "text": [
            "Ejemplo Calculadora Sencilla:\n",
            "\n",
            "MENU:\n",
            "1: Sumar\n",
            "2: REstar\n",
            "3: Multiplicar\n",
            "4: Dividir\n",
            "\n",
            "Ingrese la opción deseada del menú: 3\n",
            "Ingrese el primer número de la operación:5\n",
            "Ingrese el segundo número de la operación:10\n",
            "Vamos a multiplicar los dos valores ingresados:\n",
            "\n",
            "5.0*10.0=50.0\n"
          ]
        }
      ],
      "source": [
        "print('Ejemplo Calculadora Sencilla:')\n",
        "\n",
        "print()\n",
        "#MENU:\n",
        "print(\"MENU:\")\n",
        "print(\"1: Sumar\")\n",
        "print(\"2: REstar\")\n",
        "print(\"3: Multiplicar\")\n",
        "print(\"4: Dividir\")\n",
        "print()\n",
        "#Ingreso de datos:\n",
        "opcion=input(\"Ingrese la opción deseada del menú: \") # la opción se guarda como cadena\n",
        "numero_uno=float(input('Ingrese el primer número de la operación:'))# guarda como flotante (número real)\n",
        "numero_dos=float(input('Ingrese el segundo número de la operación:'))# guarda como flotante (número real)\n",
        "\n",
        "if opcion=='1':\n",
        "  print(\"Vamos a sumar los dos valores ingresados:\")\n",
        "  print('La suma es:',numero_uno+numero_dos)\n",
        "if opcion=='2':\n",
        "  print(\"Vamos a restar los dos valores ingresados:\\n\")\n",
        "  resta=numero_uno-numero_dos\n",
        "  print(\"Resultado=\",resta) # voy a concatenar dos cadenas(str1+str2: no suma sino que junta, str1str2)\n",
        "if opcion=='3':\n",
        "  print(\"Vamos a multiplicar los dos valores ingresados:\\n\")\n",
        "  mult=numero_uno*numero_dos\n",
        "  print(f'{numero_uno}*{numero_dos}={mult}')\n",
        "if opcion=='4'or opcion=='/' or opcion=='Dividir':\n",
        "  print(\"Vamos a dividir(/) los dos valores ingresados:\\n\")\n",
        "  #VALIDANDO EL DENOMINADOR (debe ser diferente de cero)\n",
        "  if numero_dos!=0:\n",
        "    print(numero_uno/numero_dos)\n",
        "  else:\n",
        "    print(\"¡No es posible dividir entre cero!\")"
      ]
    }
  ]
}
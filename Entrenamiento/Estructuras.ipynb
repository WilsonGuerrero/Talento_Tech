{
  "nbformat": 4,
  "nbformat_minor": 0,
  "metadata": {
    "colab": {
      "provenance": []
    },
    "kernelspec": {
      "name": "python3",
      "display_name": "Python 3"
    },
    "language_info": {
      "name": "python"
    }
  },
  "cells": [
    {
      "cell_type": "markdown",
      "source": [],
      "metadata": {
        "id": "CCd6-ecr6inl"
      }
    },
    {
      "cell_type": "markdown",
      "source": [
        "**LIstas** y algunas funciones"
      ],
      "metadata": {
        "id": "tMkfaBWa6l-z"
      }
    },
    {
      "cell_type": "code",
      "source": [
        "lista_compras = [\"manzanas\", \"pan\", \"leche\", \"huevos\"]\n",
        "lista_compras.append(\"queso\")  # Añadir elemento\n",
        "lista_compras.pop(1)          # Eliminar \"pan\"\n",
        "print(\"Lista actualizada:\", lista_compras)"
      ],
      "metadata": {
        "colab": {
          "base_uri": "https://localhost:8080/"
        },
        "id": "KPeHGgLr6udL",
        "outputId": "6fa4d7e4-42b4-42e4-b7e1-cef74a53f3d1"
      },
      "execution_count": 1,
      "outputs": [
        {
          "output_type": "stream",
          "name": "stdout",
          "text": [
            "Lista actualizada: ['manzanas', 'leche', 'huevos', 'queso']\n"
          ]
        }
      ]
    },
    {
      "cell_type": "code",
      "source": [
        "notas = [4.5, 3.8, 5.0, 2.7]\n",
        "notas.sort()  # Ordenar ascendentemente\n",
        "print(\"Notas ordenadas:\", notas)"
      ],
      "metadata": {
        "colab": {
          "base_uri": "https://localhost:8080/"
        },
        "id": "NwrHZXQL689C",
        "outputId": "61856376-2467-4573-e61f-bec9299e4a2e"
      },
      "execution_count": 2,
      "outputs": [
        {
          "output_type": "stream",
          "name": "stdout",
          "text": [
            "Notas ordenadas: [2.7, 3.8, 4.5, 5.0]\n"
          ]
        }
      ]
    },
    {
      "cell_type": "markdown",
      "source": [
        "**Tuplas**"
      ],
      "metadata": {
        "id": "YlhmulmX7GXZ"
      }
    },
    {
      "cell_type": "code",
      "source": [
        "ubicacion = (40.7128, -74.0060)  # Nueva York\n",
        "latitud, longitud = ubicacion    # Desempaquetado\n",
        "print(f\"Latitud: {latitud}, Longitud: {longitud}\")"
      ],
      "metadata": {
        "colab": {
          "base_uri": "https://localhost:8080/"
        },
        "id": "-ZFXTUH67aPm",
        "outputId": "11f5838f-87e5-49ee-ea79-4cc8e41996fb"
      },
      "execution_count": 3,
      "outputs": [
        {
          "output_type": "stream",
          "name": "stdout",
          "text": [
            "Latitud: 40.7128, Longitud: -74.006\n"
          ]
        }
      ]
    },
    {
      "cell_type": "code",
      "source": [
        "fechas_importantes = (\"1789-07-14\", \"1917-11-07\", \"1969-07-20\")\n",
        "print(\"Primer evento:\", fechas_importantes[0])"
      ],
      "metadata": {
        "colab": {
          "base_uri": "https://localhost:8080/"
        },
        "id": "LFE8HEXN7lWr",
        "outputId": "b752ba11-cdb8-4322-baec-b88bfb1d6160"
      },
      "execution_count": 4,
      "outputs": [
        {
          "output_type": "stream",
          "name": "stdout",
          "text": [
            "Primer evento: 1789-07-14\n"
          ]
        }
      ]
    },
    {
      "cell_type": "markdown",
      "source": [
        "**Conjuntos** y operaciones entre ellos"
      ],
      "metadata": {
        "id": "dyv14-yE9DWG"
      }
    },
    {
      "cell_type": "code",
      "source": [
        "frutas = {\"manzana\", \"banana\", \"naranja\"}\n",
        "citricos = {\"naranja\", \"limón\", \"lima\"}\n",
        "\n",
        "print(\"Unión:\", frutas | citricos)\n",
        "print(\"Intersección:\", frutas & citricos)\n",
        "print(\"Diferencia:\", frutas - citricos)"
      ],
      "metadata": {
        "colab": {
          "base_uri": "https://localhost:8080/"
        },
        "id": "9N3jiNRb9K3C",
        "outputId": "a1e2cbc4-d246-44d1-c294-002fa1b17869"
      },
      "execution_count": 8,
      "outputs": [
        {
          "output_type": "stream",
          "name": "stdout",
          "text": [
            "Unión: {'manzana', 'naranja', 'banana', 'lima', 'limón'}\n",
            "Intersección: {'naranja'}\n",
            "Diferencia: {'manzana', 'banana'}\n"
          ]
        }
      ]
    },
    {
      "cell_type": "code",
      "source": [
        "numeros_repetidos = [1, 2, 2, 3, 4, 4, 4]\n",
        "unicos = set(numeros_repetidos)\n",
        "print(\"Números únicos:\", unicos)"
      ],
      "metadata": {
        "colab": {
          "base_uri": "https://localhost:8080/"
        },
        "id": "fmq_916s9r8W",
        "outputId": "63c27e80-524f-4f4f-d95f-77dd5d26917b"
      },
      "execution_count": 10,
      "outputs": [
        {
          "output_type": "stream",
          "name": "stdout",
          "text": [
            "Números únicos: {1, 2, 3, 4}\n"
          ]
        }
      ]
    },
    {
      "cell_type": "markdown",
      "source": [
        "**Diccionarios**"
      ],
      "metadata": {
        "id": "zHoegyyH97HX"
      }
    },
    {
      "cell_type": "code",
      "source": [
        "inventario = {\n",
        "    \"manzanas\": 50,\n",
        "    \"bananas\": 30,\n",
        "    \"naranjas\": 45\n",
        "}\n",
        "inventario[\"bananas\"] += 10  # Actualizar stock\n",
        "print(\"Stock de bananas:\", inventario[\"bananas\"])\n",
        "print(\"Inventario completo:\", inventario)"
      ],
      "metadata": {
        "colab": {
          "base_uri": "https://localhost:8080/"
        },
        "id": "8fL7-K4Z9_zh",
        "outputId": "e3f0b09d-6865-49b7-9235-a12eacfeae59"
      },
      "execution_count": 21,
      "outputs": [
        {
          "output_type": "stream",
          "name": "stdout",
          "text": [
            "Stock de bananas: 40\n",
            "Inventario completo: {'manzanas': 50, 'bananas': 40, 'naranjas': 45}\n"
          ]
        }
      ]
    },
    {
      "cell_type": "code",
      "source": [
        "estudiante = {\n",
        "    \"nombre\": \"Wilson Guerrero\",\n",
        "    \"edad\": 28,\n",
        "    \"carrera\": \"Ingeniería\",\n",
        "    \"materias\": [\"Cálculo\", \"Programación\", \"Física\"]\n",
        "}\n",
        "print(f\"{estudiante['nombre']} estudia {estudiante['materias'][1]}\")"
      ],
      "metadata": {
        "colab": {
          "base_uri": "https://localhost:8080/"
        },
        "id": "Nh2W7uhU-ODm",
        "outputId": "ed8c0712-8c2d-4b20-93bf-43f7285d8eb7"
      },
      "execution_count": 13,
      "outputs": [
        {
          "output_type": "stream",
          "name": "stdout",
          "text": [
            "Wilson Guerrero estudia Programación\n"
          ]
        }
      ]
    },
    {
      "cell_type": "markdown",
      "source": [
        "Convertir un **Diccionario en DataFrame**"
      ],
      "metadata": {
        "id": "486KLgh-_IXO"
      }
    },
    {
      "cell_type": "code",
      "source": [
        "import pandas as pd\n",
        "\n",
        "diccionario = {\n",
        "    'Producto': ['Laptop', 'Mouse', 'Teclado'],\n",
        "    'Precio': [1200, 25, 75],\n",
        "    'Stock': [10, 50, 30]\n",
        "}\n",
        "\n",
        "df = pd.DataFrame(diccionario)\n",
        "print(df)"
      ],
      "metadata": {
        "colab": {
          "base_uri": "https://localhost:8080/"
        },
        "id": "R0GogjpJ_Qc2",
        "outputId": "34c2a6f2-54d3-44a1-bf15-6e3389cc54e3"
      },
      "execution_count": 20,
      "outputs": [
        {
          "output_type": "stream",
          "name": "stdout",
          "text": [
            "  Producto  Precio  Stock\n",
            "0   Laptop    1200     10\n",
            "1    Mouse      25     50\n",
            "2  Teclado      75     30\n"
          ]
        }
      ]
    },
    {
      "cell_type": "markdown",
      "source": [
        "Recorrer estructuras con ciclo for"
      ],
      "metadata": {
        "id": "lnbgG5rrBl0L"
      }
    },
    {
      "cell_type": "code",
      "source": [
        "import pandas as pd\n",
        "\n",
        "df = pd.DataFrame({\n",
        "    \"Nombre\": [\"Ana\", \"Juan\"],\n",
        "    \"Edad\": [25, 30]\n",
        "})\n",
        "\n",
        "# Recorrer filas (como diccionarios):\n",
        "for indice, fila in df.iterrows():\n",
        "    print(f\"Fila {indice}: {fila['Nombre']} tiene {fila['Edad']} años\")\n",
        "\n",
        "# Recorrer columnas:\n",
        "for columna in df.columns:\n",
        "    print(f\"Columna: {columna}\")\n",
        "    print(df[columna].values)"
      ],
      "metadata": {
        "colab": {
          "base_uri": "https://localhost:8080/"
        },
        "id": "OdR7sQzVBqnX",
        "outputId": "a40c296a-6877-4882-da39-6d4171219a2d"
      },
      "execution_count": 23,
      "outputs": [
        {
          "output_type": "stream",
          "name": "stdout",
          "text": [
            "Fila 0: Ana tiene 25 años\n",
            "Fila 1: Juan tiene 30 años\n",
            "Columna: Nombre\n",
            "['Ana' 'Juan']\n",
            "Columna: Edad\n",
            "[25 30]\n"
          ]
        }
      ]
    },
    {
      "cell_type": "code",
      "source": [
        "estudiantes = [\n",
        "    {\"nombre\": \"Ana\", \"notas\": [4.5, 3.8]},\n",
        "    {\"nombre\": \"Juan\", \"notas\": [5.0, 4.2]}\n",
        "]\n",
        "\n",
        "for estudiante in estudiantes:\n",
        "    print(f\"\\n{estudiante['nombre']}:\")\n",
        "    for nota in estudiante[\"notas\"]:\n",
        "        print(f\"  - Nota: {nota}\")"
      ],
      "metadata": {
        "colab": {
          "base_uri": "https://localhost:8080/"
        },
        "id": "PHOw-Bm2CPUG",
        "outputId": "33598a9b-bf32-4787-8521-77327d553aa5"
      },
      "execution_count": 24,
      "outputs": [
        {
          "output_type": "stream",
          "name": "stdout",
          "text": [
            "\n",
            "Ana:\n",
            "  - Nota: 4.5\n",
            "  - Nota: 3.8\n",
            "\n",
            "Juan:\n",
            "  - Nota: 5.0\n",
            "  - Nota: 4.2\n"
          ]
        }
      ]
    }
  ]
}